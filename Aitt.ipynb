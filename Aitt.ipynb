{
 "cells": [
  {
   "cell_type": "markdown",
   "metadata": {},
   "source": [
    "## Aitt\n",
    "* AI 추천 시간표\n",
    "* 본인 학교/학과에 맞는 졸업적부 여부 및 졸업을 위해 필요한 수강과목등을 알려줌\n",
    "* 대학교 중고마켓: 차별점으로는 수업이 다른 등의 많은 이유로 직접 대면하여 물건 거래가 어려울 때를 대비해 하나의 공유장소(대학교)를 사용하고 있음에 착안해 학교 내에 Aitt box를 설치해 물품을 보관하고 찾을 수 있도록 / Aitt box는 무인 택배함에서 착안한 아이디어로, 많은 짐에 비해 턱없이 부족한 사물함의 역할도 기대할 수 있음. 혹은 근처에 사는 자취/기숙사생을 통한 중개 거래 시스템에 대해서도 추후 검토할 예정"
   ]
  },
  {
   "cell_type": "code",
   "execution_count": 2,
   "metadata": {},
   "outputs": [],
   "source": [
    "# 필요한 모듈 및 라이브러리를 임포트\n",
    "from selenium import webdriver\n",
    "from selenium.webdriver.chrome.options import Options\n",
    "from time import sleep\n",
    "import getpass"
   ]
  },
  {
   "cell_type": "markdown",
   "metadata": {},
   "source": [
    "### class: HeadLessChrome\n",
    "* 테스트 시에는 'headless'와 '--start fullscreen'옵션만 DataParsingFromPage 클래스에서 따로 선언하여 사용"
   ]
  },
  {
   "cell_type": "code",
   "execution_count": 3,
   "metadata": {},
   "outputs": [],
   "source": [
    "class HeadLessChrome:\n",
    "    def __init__(self):\n",
    "        self.options = webdriver.ChromeOptions()\n",
    "        self.options.add_argument('headless')\n",
    "        self.options.add_argument('--start fullscreen')\n",
    "        self.options.add_argument('window-size = 1920x1080')\n",
    "        self.options.add_argument('disable--gpu')"
   ]
  },
  {
   "cell_type": "markdown",
   "metadata": {},
   "source": [
    "### class: DataParsingFromPage\n",
    "* 테스트 시에는 세종대학교 학사정보시스템에서만 구현(uis.sejong.ac.kr)\n",
    "\n",
    "#### 성적조회페이지에 접근하는 방식에 대한 고민\n",
    "* 현재는 xpath로 이동하며 성적조회페이지에 접근: 일반성이 떨어지는 문제\n",
    "    \n",
    "#### 성적 데이터를 파싱해올때의 문제점\n",
    "* 성적 데이터가 iframe내에 있음\n",
    "* xpath를 이용한 파싱: 화면에 표시되는 데이터만 파싱, 화면에 표시되지 않고 스크롤 아래 있으면 파생해오지 못함\n",
    "* 전체화면을 스크린샷 찍어 사진에서 필요한 데이터를 추출: 스크롤이 필요한 iframe을 전체 스크린샷하는 방법"
   ]
  },
  {
   "cell_type": "code",
   "execution_count": 2,
   "metadata": {},
   "outputs": [],
   "source": [
    "# 페이지 xpath를 이용해 \"기이수성적조회\" 페이지에 접근하는 클래스\n",
    "class DataParsingFromPage():\n",
    "    def __init__(self):\n",
    "        # HeadLessChrome\n",
    "        self.options = Options()\n",
    "        self.options.add_argument('headless')\n",
    "        self.options.add_argument('--start-maximized')\n",
    "        self.driver = webdriver.Chrome('C:\\chromedriver\\chromedriver.exe', chrome_options=self.options)\n",
    "\n",
    "    def access_from_url(self, url):\n",
    "        self.driver.get(url)\n",
    "        self.driver.implicitly_wait(1)\n",
    "        \n",
    "    def login(self, ID, PWD):\n",
    "        # 사용자로부터 아이디와 별표로 표시되는 패스워드를 입력받음\n",
    "        ID  = input('ID:')\n",
    "        PWD = getpass.getpass('PWD:')      \n",
    "        # 페이지에 아이디와 패스워드를 넘겨주어 로그인\n",
    "        self.send_keys_by_name('id', ID)\n",
    "        self.send_keys_by_name('password', PWD)\n",
    "        self.click_xpath_element('//*[@id=\"logbtn\"]')\n",
    "        self.driver.implicitly_wait(1)\n",
    "\n",
    "    def move_to_riaframe(self):\n",
    "        # content frame으로 이동\n",
    "        self.switch_frame_to('//*[@id=\"contentFrm\"]')\n",
    "        # 성적 조회 frame으로 이동\n",
    "        self.switch_frame_to('//*[@id=\"riaframe\"]')\n",
    "\n",
    "    # 기이수성적조회페이지로 이동\n",
    "    def move_to_check_page(self):\n",
    "        # menu frame으로 이동\n",
    "        self.switch_frame_to('//*[@id=\"menuFrm\"]')\n",
    "        # 수업/성적 클릭\n",
    "        self.click_xpath_element('//*[@id=\"mainTable\"]/tbody/tr[1]/td/table/tbody/tr/td/table/tbody/tr[3]/td')\n",
    "        # 성적 및 강의평가 클릭\n",
    "        self.click_xpath_element('//*[@id=\"SELF_STUDSELF_SUB_30\"]/table/tbody/tr[5]/td')\n",
    "        # 기이수성적조회 클릭\n",
    "        self.click_xpath_element('//*[@id=\"SELF_STUDSELF_SUB_30SCH_SUG05_STUDSugRecordQ\"]')\n",
    "        # 부모 frame으로 이동\n",
    "        self.switch_frame_to(None, is_parent=True)\n",
    "        # 성적 조회 frame으로 이동\n",
    "        self.move_to_riaframe()\n",
    "        # 성적 조회 테이블로 이동\n",
    "        self.driver.find_element_by_class_name('GLMainTable')\n",
    "\n",
    "    def click_xpath_element(self, xpath):\n",
    "        self.driver.find_element_by_xpath(xpath).click()\n",
    "        sleep(1)\n",
    "\n",
    "    def switch_frame_to(self, xpath, is_parent=None):\n",
    "        if is_parent:\n",
    "            self.driver.switch_to.parent_frame()\n",
    "            return\n",
    "        self.driver.switch_to.frame(self.driver.find_element_by_xpath(xpath))\n",
    "\n",
    "    # 테스트에서는 저장된 아이디와 비밀번호를 이용하여 로그인\n",
    "    def test_login_with_already_input(self):\n",
    "        self.test_send_keys_by_name('id', '17011694')\n",
    "        self.test_send_keys_by_name('password', 'please input password')\n",
    "        self.click_xpath_element('//*[@id=\"logbtn\"]')\n",
    "        self.driver.implicitly_wait(0.5)"
   ]
  },
  {
   "cell_type": "code",
   "execution_count": null,
   "metadata": {},
   "outputs": [],
   "source": []
  }
 ],
 "metadata": {
  "kernelspec": {
   "display_name": "Python 3",
   "language": "python",
   "name": "python3"
  },
  "language_info": {
   "codemirror_mode": {
    "name": "ipython",
    "version": 3
   },
   "file_extension": ".py",
   "mimetype": "text/x-python",
   "name": "python",
   "nbconvert_exporter": "python",
   "pygments_lexer": "ipython3",
   "version": "3.7.6"
  }
 },
 "nbformat": 4,
 "nbformat_minor": 4
}
